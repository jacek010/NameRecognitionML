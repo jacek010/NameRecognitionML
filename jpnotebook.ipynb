{
 "cells": [
  {
   "cell_type": "code",
   "execution_count": 8,
   "id": "initial_id",
   "metadata": {
    "collapsed": true,
    "ExecuteTime": {
     "end_time": "2024-02-01T11:15:20.901116Z",
     "start_time": "2024-02-01T11:15:20.878637Z"
    }
   },
   "outputs": [
    {
     "data": {
      "text/plain": "(16598, 11)"
     },
     "execution_count": 8,
     "metadata": {},
     "output_type": "execute_result"
    }
   ],
   "source": [
    "import pandas as pd\n",
    "\n",
    "df = pd.read_csv('vgsales.csv')\n",
    "\n",
    "df.shape"
   ]
  },
  {
   "cell_type": "code",
   "outputs": [
    {
     "data": {
      "text/plain": "               Rank          Year      NA_Sales      EU_Sales      JP_Sales  \\\ncount  16598.000000  16327.000000  16598.000000  16598.000000  16598.000000   \nmean    8300.605254   2006.406443      0.264667      0.146652      0.077782   \nstd     4791.853933      5.828981      0.816683      0.505351      0.309291   \nmin        1.000000   1980.000000      0.000000      0.000000      0.000000   \n25%     4151.250000   2003.000000      0.000000      0.000000      0.000000   \n50%     8300.500000   2007.000000      0.080000      0.020000      0.000000   \n75%    12449.750000   2010.000000      0.240000      0.110000      0.040000   \nmax    16600.000000   2020.000000     41.490000     29.020000     10.220000   \n\n        Other_Sales  Global_Sales  \ncount  16598.000000  16598.000000  \nmean       0.048063      0.537441  \nstd        0.188588      1.555028  \nmin        0.000000      0.010000  \n25%        0.000000      0.060000  \n50%        0.010000      0.170000  \n75%        0.040000      0.470000  \nmax       10.570000     82.740000  ",
      "text/html": "<div>\n<style scoped>\n    .dataframe tbody tr th:only-of-type {\n        vertical-align: middle;\n    }\n\n    .dataframe tbody tr th {\n        vertical-align: top;\n    }\n\n    .dataframe thead th {\n        text-align: right;\n    }\n</style>\n<table border=\"1\" class=\"dataframe\">\n  <thead>\n    <tr style=\"text-align: right;\">\n      <th></th>\n      <th>Rank</th>\n      <th>Year</th>\n      <th>NA_Sales</th>\n      <th>EU_Sales</th>\n      <th>JP_Sales</th>\n      <th>Other_Sales</th>\n      <th>Global_Sales</th>\n    </tr>\n  </thead>\n  <tbody>\n    <tr>\n      <th>count</th>\n      <td>16598.000000</td>\n      <td>16327.000000</td>\n      <td>16598.000000</td>\n      <td>16598.000000</td>\n      <td>16598.000000</td>\n      <td>16598.000000</td>\n      <td>16598.000000</td>\n    </tr>\n    <tr>\n      <th>mean</th>\n      <td>8300.605254</td>\n      <td>2006.406443</td>\n      <td>0.264667</td>\n      <td>0.146652</td>\n      <td>0.077782</td>\n      <td>0.048063</td>\n      <td>0.537441</td>\n    </tr>\n    <tr>\n      <th>std</th>\n      <td>4791.853933</td>\n      <td>5.828981</td>\n      <td>0.816683</td>\n      <td>0.505351</td>\n      <td>0.309291</td>\n      <td>0.188588</td>\n      <td>1.555028</td>\n    </tr>\n    <tr>\n      <th>min</th>\n      <td>1.000000</td>\n      <td>1980.000000</td>\n      <td>0.000000</td>\n      <td>0.000000</td>\n      <td>0.000000</td>\n      <td>0.000000</td>\n      <td>0.010000</td>\n    </tr>\n    <tr>\n      <th>25%</th>\n      <td>4151.250000</td>\n      <td>2003.000000</td>\n      <td>0.000000</td>\n      <td>0.000000</td>\n      <td>0.000000</td>\n      <td>0.000000</td>\n      <td>0.060000</td>\n    </tr>\n    <tr>\n      <th>50%</th>\n      <td>8300.500000</td>\n      <td>2007.000000</td>\n      <td>0.080000</td>\n      <td>0.020000</td>\n      <td>0.000000</td>\n      <td>0.010000</td>\n      <td>0.170000</td>\n    </tr>\n    <tr>\n      <th>75%</th>\n      <td>12449.750000</td>\n      <td>2010.000000</td>\n      <td>0.240000</td>\n      <td>0.110000</td>\n      <td>0.040000</td>\n      <td>0.040000</td>\n      <td>0.470000</td>\n    </tr>\n    <tr>\n      <th>max</th>\n      <td>16600.000000</td>\n      <td>2020.000000</td>\n      <td>41.490000</td>\n      <td>29.020000</td>\n      <td>10.220000</td>\n      <td>10.570000</td>\n      <td>82.740000</td>\n    </tr>\n  </tbody>\n</table>\n</div>"
     },
     "execution_count": 9,
     "metadata": {},
     "output_type": "execute_result"
    }
   ],
   "source": [
    "df.describe()"
   ],
   "metadata": {
    "collapsed": false,
    "ExecuteTime": {
     "end_time": "2024-02-01T11:15:20.912976Z",
     "start_time": "2024-02-01T11:15:20.901004Z"
    }
   },
   "id": "ac3a0688d8db05d",
   "execution_count": 9
  }
 ],
 "metadata": {
  "kernelspec": {
   "display_name": "Python 3",
   "language": "python",
   "name": "python3"
  },
  "language_info": {
   "codemirror_mode": {
    "name": "ipython",
    "version": 2
   },
   "file_extension": ".py",
   "mimetype": "text/x-python",
   "name": "python",
   "nbconvert_exporter": "python",
   "pygments_lexer": "ipython2",
   "version": "2.7.6"
  }
 },
 "nbformat": 4,
 "nbformat_minor": 5
}
