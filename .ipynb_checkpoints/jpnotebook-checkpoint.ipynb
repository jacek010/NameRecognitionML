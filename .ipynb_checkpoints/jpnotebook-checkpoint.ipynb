{
 "cells": [
  {
   "cell_type": "code",
   "execution_count": 1,
   "id": "initial_id",
   "metadata": {
    "collapsed": true,
    "ExecuteTime": {
     "end_time": "2024-02-01T11:31:37.683279Z",
     "start_time": "2024-02-01T11:31:36.638601Z"
    }
   },
   "outputs": [
    {
     "name": "stderr",
     "output_type": "stream",
     "text": [
      "/var/folders/d0/wrz8q2z550b8976zczrt1n080000gn/T/ipykernel_15282/2010798376.py:1: DeprecationWarning: \n",
      "Pyarrow will become a required dependency of pandas in the next major release of pandas (pandas 3.0),\n",
      "(to allow more performant data types, such as the Arrow string type, and better interoperability with other libraries)\n",
      "but was not found to be installed on your system.\n",
      "If this would cause problems for you,\n",
      "please provide us feedback at https://github.com/pandas-dev/pandas/issues/54466\n",
      "        \n",
      "  import pandas as pd\n"
     ]
    }
   ],
   "source": [
    "import pandas as pd\n",
    "from sklearn.tree import DecisionTreeClassifier\n",
    "\n",
    "music_data = pd.read_csv('music.csv')\n",
    "X = music_data.drop(columns=['genre'])\n",
    "Y = music_data['genre']\n",
    "\n"
   ]
  },
  {
   "cell_type": "code",
   "outputs": [
    {
     "data": {
      "text/plain": "    age  gender      genre\n0    20       1     HipHop\n1    23       1     HipHop\n2    25       1     HipHop\n3    26       1       Jazz\n4    29       1       Jazz\n5    30       1       Jazz\n6    31       1  Classical\n7    33       1  Classical\n8    37       1  Classical\n9    20       0      Dance\n10   21       0      Dance\n11   25       0      Dance\n12   26       0   Acoustic\n13   27       0   Acoustic\n14   30       0   Acoustic\n15   31       0  Classical\n16   34       0  Classical\n17   35       0  Classical",
      "text/html": "<div>\n<style scoped>\n    .dataframe tbody tr th:only-of-type {\n        vertical-align: middle;\n    }\n\n    .dataframe tbody tr th {\n        vertical-align: top;\n    }\n\n    .dataframe thead th {\n        text-align: right;\n    }\n</style>\n<table border=\"1\" class=\"dataframe\">\n  <thead>\n    <tr style=\"text-align: right;\">\n      <th></th>\n      <th>age</th>\n      <th>gender</th>\n      <th>genre</th>\n    </tr>\n  </thead>\n  <tbody>\n    <tr>\n      <th>0</th>\n      <td>20</td>\n      <td>1</td>\n      <td>HipHop</td>\n    </tr>\n    <tr>\n      <th>1</th>\n      <td>23</td>\n      <td>1</td>\n      <td>HipHop</td>\n    </tr>\n    <tr>\n      <th>2</th>\n      <td>25</td>\n      <td>1</td>\n      <td>HipHop</td>\n    </tr>\n    <tr>\n      <th>3</th>\n      <td>26</td>\n      <td>1</td>\n      <td>Jazz</td>\n    </tr>\n    <tr>\n      <th>4</th>\n      <td>29</td>\n      <td>1</td>\n      <td>Jazz</td>\n    </tr>\n    <tr>\n      <th>5</th>\n      <td>30</td>\n      <td>1</td>\n      <td>Jazz</td>\n    </tr>\n    <tr>\n      <th>6</th>\n      <td>31</td>\n      <td>1</td>\n      <td>Classical</td>\n    </tr>\n    <tr>\n      <th>7</th>\n      <td>33</td>\n      <td>1</td>\n      <td>Classical</td>\n    </tr>\n    <tr>\n      <th>8</th>\n      <td>37</td>\n      <td>1</td>\n      <td>Classical</td>\n    </tr>\n    <tr>\n      <th>9</th>\n      <td>20</td>\n      <td>0</td>\n      <td>Dance</td>\n    </tr>\n    <tr>\n      <th>10</th>\n      <td>21</td>\n      <td>0</td>\n      <td>Dance</td>\n    </tr>\n    <tr>\n      <th>11</th>\n      <td>25</td>\n      <td>0</td>\n      <td>Dance</td>\n    </tr>\n    <tr>\n      <th>12</th>\n      <td>26</td>\n      <td>0</td>\n      <td>Acoustic</td>\n    </tr>\n    <tr>\n      <th>13</th>\n      <td>27</td>\n      <td>0</td>\n      <td>Acoustic</td>\n    </tr>\n    <tr>\n      <th>14</th>\n      <td>30</td>\n      <td>0</td>\n      <td>Acoustic</td>\n    </tr>\n    <tr>\n      <th>15</th>\n      <td>31</td>\n      <td>0</td>\n      <td>Classical</td>\n    </tr>\n    <tr>\n      <th>16</th>\n      <td>34</td>\n      <td>0</td>\n      <td>Classical</td>\n    </tr>\n    <tr>\n      <th>17</th>\n      <td>35</td>\n      <td>0</td>\n      <td>Classical</td>\n    </tr>\n  </tbody>\n</table>\n</div>"
     },
     "execution_count": 2,
     "metadata": {},
     "output_type": "execute_result"
    }
   ],
   "source": [
    "music_data"
   ],
   "metadata": {
    "collapsed": false,
    "ExecuteTime": {
     "end_time": "2024-02-01T11:31:37.704264Z",
     "start_time": "2024-02-01T11:31:37.681245Z"
    }
   },
   "id": "ac3a0688d8db05d",
   "execution_count": 2
  }
 ],
 "metadata": {
  "kernelspec": {
   "display_name": "Python 3",
   "language": "python",
   "name": "python3"
  },
  "language_info": {
   "codemirror_mode": {
    "name": "ipython",
    "version": 2
   },
   "file_extension": ".py",
   "mimetype": "text/x-python",
   "name": "python",
   "nbconvert_exporter": "python",
   "pygments_lexer": "ipython2",
   "version": "2.7.6"
  }
 },
 "nbformat": 4,
 "nbformat_minor": 5
}
