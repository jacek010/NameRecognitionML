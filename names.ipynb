{
 "cells": [
  {
   "cell_type": "code",
   "outputs": [
    {
     "data": {
      "text/plain": "['names_gender.joblib']"
     },
     "execution_count": 4,
     "metadata": {},
     "output_type": "execute_result"
    }
   ],
   "source": [
    "import joblib\n",
    "import pandas as pd\n",
    "from sklearn.feature_extraction.text import TfidfVectorizer\n",
    "from sklearn.tree import DecisionTreeClassifier\n",
    "\n",
    "names_data = pd.read_csv('imiona.csv')\n",
    "names_data.fillna({'IMIĘ_PIERWSZE': 'MISSING'}, inplace=True)\n",
    "\n",
    "Y = names_data['PŁEĆ']\n",
    "\n",
    "vectorizer = TfidfVectorizer()\n",
    "X = vectorizer.fit_transform(names_data['IMIĘ_PIERWSZE'])\n",
    "\n",
    "\n",
    "model = DecisionTreeClassifier()\n",
    "model.fit(X, Y)\n",
    "\n",
    "joblib.dump(model, 'names_gender.joblib')\n",
    "\n"
   ],
   "metadata": {
    "collapsed": false,
    "ExecuteTime": {
     "end_time": "2024-02-01T13:26:16.481231Z",
     "start_time": "2024-02-01T13:22:26.428265Z"
    }
   },
   "id": "bb29c1d62943aca0",
   "execution_count": 4
  },
  {
   "cell_type": "code",
   "outputs": [
    {
     "data": {
      "text/plain": "array(['KOBIETA', 'MĘŻCZYZNA', 'KOBIETA', 'MĘŻCZYZNA', 'KOBIETA'],\n      dtype=object)"
     },
     "execution_count": 12,
     "metadata": {},
     "output_type": "execute_result"
    }
   ],
   "source": [
    "model_to_predict = joblib.load('names_gender.joblib')\n",
    "\n",
    "predictions = model_to_predict.predict(vectorizer.transform(['ANNA', 'ADAM', 'SASHA', 'Daniel', 'Janina']).toarray())\n",
    "predictions"
   ],
   "metadata": {
    "collapsed": false,
    "ExecuteTime": {
     "end_time": "2024-02-01T14:00:09.768172Z",
     "start_time": "2024-02-01T14:00:09.757946Z"
    }
   },
   "id": "8327e37510e5928f",
   "execution_count": 12
  }
 ],
 "metadata": {
  "kernelspec": {
   "display_name": "Python 3",
   "language": "python",
   "name": "python3"
  },
  "language_info": {
   "codemirror_mode": {
    "name": "ipython",
    "version": 2
   },
   "file_extension": ".py",
   "mimetype": "text/x-python",
   "name": "python",
   "nbconvert_exporter": "python",
   "pygments_lexer": "ipython2",
   "version": "2.7.6"
  }
 },
 "nbformat": 4,
 "nbformat_minor": 5
}
