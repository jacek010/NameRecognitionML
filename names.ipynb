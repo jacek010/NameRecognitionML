{
 "cells": [
  {
   "cell_type": "code",
   "outputs": [
    {
     "data": {
      "text/plain": "['names_vectorizer.joblib']"
     },
     "execution_count": 17,
     "metadata": {},
     "output_type": "execute_result"
    }
   ],
   "source": [
    "import joblib\n",
    "import pandas as pd\n",
    "from sklearn.feature_extraction.text import TfidfVectorizer\n",
    "from sklearn.tree import DecisionTreeClassifier\n",
    "\n",
    "names_data = pd.read_csv('imiona.csv')\n",
    "names_data.fillna({'IMIĘ_PIERWSZE': 'MISSING'}, inplace=True)\n",
    "\n",
    "Y = names_data['PŁEĆ']\n",
    "\n",
    "vectorizer = TfidfVectorizer()\n",
    "X = vectorizer.fit_transform(names_data['IMIĘ_PIERWSZE'])\n",
    "\n",
    "\n",
    "model = DecisionTreeClassifier()\n",
    "model.fit(X, Y)\n",
    "\n",
    "joblib.dump(model, 'names_gender.joblib')\n",
    "joblib.dump(vectorizer, 'names_vectorizer.joblib')\n",
    "\n"
   ],
   "metadata": {
    "collapsed": false,
    "ExecuteTime": {
     "end_time": "2024-02-01T14:32:50.282952Z",
     "start_time": "2024-02-01T14:29:45.776721Z"
    }
   },
   "id": "bb29c1d62943aca0",
   "execution_count": 17
  },
  {
   "cell_type": "code",
   "outputs": [],
   "source": [],
   "metadata": {
    "collapsed": false
   },
   "id": "a42953e97e500ac8"
  },
  {
   "cell_type": "code",
   "outputs": [
    {
     "data": {
      "text/plain": "'KOBIETA'"
     },
     "execution_count": 16,
     "metadata": {},
     "output_type": "execute_result"
    }
   ],
   "source": [
    "model_to_predict = joblib.load('names_gender.joblib')\n",
    "\n",
    "predictions = model_to_predict.predict(vectorizer.transform(['ANNA', 'ADAM', 'SASHA', 'Daniel', 'Janina']).toarray())\n",
    "predictions[0]"
   ],
   "metadata": {
    "collapsed": false,
    "ExecuteTime": {
     "end_time": "2024-02-01T14:20:52.526413Z",
     "start_time": "2024-02-01T14:20:52.515234Z"
    }
   },
   "id": "8327e37510e5928f",
   "execution_count": 16
  }
 ],
 "metadata": {
  "kernelspec": {
   "display_name": "Python 3",
   "language": "python",
   "name": "python3"
  },
  "language_info": {
   "codemirror_mode": {
    "name": "ipython",
    "version": 2
   },
   "file_extension": ".py",
   "mimetype": "text/x-python",
   "name": "python",
   "nbconvert_exporter": "python",
   "pygments_lexer": "ipython2",
   "version": "2.7.6"
  }
 },
 "nbformat": 4,
 "nbformat_minor": 5
}
